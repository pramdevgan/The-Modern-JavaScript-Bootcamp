{
 "cells": [
  {
   "cell_type": "markdown",
   "id": "40fe393a-7342-4507-93f9-af79545769d4",
   "metadata": {},
   "source": [
    "# **ARRAYS**\n",
    "#### Ordered collections of values\n",
    "\n",
    "- List of comments on IG post\n",
    "- Collection of levels in a game\n",
    "- Songs in a playlist\n",
    "\n",
    "![](https://i.imgur.com/oGnOVNM.png)"
   ]
  },
  {
   "cell_type": "markdown",
   "id": "9d45b604-3524-49b4-9497-9cb084002ad2",
   "metadata": {},
   "source": [
    "### To make an empty array"
   ]
  },
  {
   "cell_type": "code",
   "execution_count": 6,
   "id": "c804e6b4-e440-4178-8afc-5297ac36dbe0",
   "metadata": {},
   "outputs": [],
   "source": [
    "let students = [];"
   ]
  },
  {
   "cell_type": "markdown",
   "id": "70a9f25b-7dc0-4713-9ba6-2b4405dcd291",
   "metadata": {},
   "source": [
    "### An Array of strings"
   ]
  },
  {
   "cell_type": "code",
   "execution_count": 7,
   "id": "fd1dec1e-0426-4c3b-87af-4a84255a5279",
   "metadata": {},
   "outputs": [
    {
     "name": "stdout",
     "output_type": "stream",
     "text": [
      "[ 'red', 'orange', 'yellow' ]\n"
     ]
    }
   ],
   "source": [
    "let colors = ['red', 'orange', 'yellow'];\n",
    "console.log(colors);"
   ]
  },
  {
   "cell_type": "markdown",
   "id": "df646634-f549-4605-9d1c-7da1e76f6762",
   "metadata": {},
   "source": [
    "# An array of number"
   ]
  },
  {
   "cell_type": "code",
   "execution_count": 8,
   "id": "13030842-1a54-4922-8be5-0b514d619ad2",
   "metadata": {},
   "outputs": [
    {
     "name": "stdout",
     "output_type": "stream",
     "text": [
      "[ 19, 14, 22, 26, 30, 50 ]\n"
     ]
    }
   ],
   "source": [
    "let lotToNums = [19, 14, 22, 26, 30, 50];\n",
    "console.log(lotToNums);"
   ]
  },
  {
   "cell_type": "markdown",
   "id": "f053924e-92ab-41bf-9fd3-13590cdf25d2",
   "metadata": {},
   "source": [
    "### A mixed array"
   ]
  },
  {
   "cell_type": "code",
   "execution_count": 1,
   "id": "2aa2ed4f-c465-429e-856f-f8ce28fb2941",
   "metadata": {},
   "outputs": [
    {
     "name": "stdout",
     "output_type": "stream",
     "text": [
      "[ true, 68, 'param', null ]\n"
     ]
    }
   ],
   "source": [
    "let stuff = [true, 68, 'param', null];\n",
    "console.log(stuff);"
   ]
  }
 ],
 "metadata": {
  "kernelspec": {
   "display_name": "JavaScript (Node.js)",
   "language": "javascript",
   "name": "javascript"
  },
  "language_info": {
   "file_extension": ".js",
   "mimetype": "application/javascript",
   "name": "javascript",
   "version": "16.14.2"
  },
  "widgets": {
   "application/vnd.jupyter.widget-state+json": {
    "state": {},
    "version_major": 2,
    "version_minor": 0
   }
  }
 },
 "nbformat": 4,
 "nbformat_minor": 5
}
