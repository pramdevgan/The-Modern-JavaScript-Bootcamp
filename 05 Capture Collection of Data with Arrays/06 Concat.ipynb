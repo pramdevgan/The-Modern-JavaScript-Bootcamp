{
 "cells": [
  {
   "cell_type": "markdown",
   "id": "faa7eccf-42ba-402e-a3db-ea4602a286bf",
   "metadata": {},
   "source": [
    "\n",
    "\n",
    "| Methods     |   Function          |\n",
    "|-------------|---------------------|\n",
    "| **concat()**      | merge arrays      |\n",
    "| **includes()** | look for a value |\n",
    "| **indexOf()** | first index (position) of a specified value |\n",
    "| **join()** | create a string from array |\n",
    "| **reverse()** | reverse an array! |\n",
    "| **slice()** | copy portion of an array! |\n",
    "| **splice()** | remove/replace elements |\n",
    "| **sort()** | sorts an array|"
   ]
  },
  {
   "cell_type": "markdown",
   "id": "7a786b65-6e8b-49f0-a6fd-9db361b78c94",
   "metadata": {
    "tags": []
   },
   "source": [
    "# ***concat()***\n",
    "\n",
    "The **concat()** menthods is used to **merge** tow or more arrays. This methods does not change the exisiting arrays, but instead returns a new array."
   ]
  },
  {
   "cell_type": "code",
   "execution_count": 1,
   "id": "5caf1cb3-fa96-4176-90f0-eac7faac011f",
   "metadata": {},
   "outputs": [],
   "source": [
    "let fruits = ['apple', 'banana'];"
   ]
  },
  {
   "cell_type": "code",
   "execution_count": 2,
   "id": "89076dac-f1d5-42b4-9ec9-7e878ed2bdad",
   "metadata": {},
   "outputs": [],
   "source": [
    "let veggies = ['tomato', 'potato'];"
   ]
  },
  {
   "cell_type": "code",
   "execution_count": 3,
   "id": "49c5085b-8f67-492a-83d6-6b21b4e1bb4c",
   "metadata": {},
   "outputs": [
    {
     "name": "stdout",
     "output_type": "stream",
     "text": [
      "[ 'apple', 'banana', 'tomato', 'potato' ]\n"
     ]
    }
   ],
   "source": [
    "let fruitsVeggiesCombo = fruits.concat(veggies);\n",
    "console.log(fruitsVeggiesCombo);"
   ]
  },
  {
   "cell_type": "code",
   "execution_count": 4,
   "id": "9585ecb3-7def-452b-81c4-4405086f54f9",
   "metadata": {},
   "outputs": [
    {
     "name": "stdout",
     "output_type": "stream",
     "text": [
      "[ 'tomato', 'potato', 'apple', 'banana' ]\n"
     ]
    }
   ],
   "source": [
    "let fruitsVeggiesCombo1 = veggies.concat(fruits);\n",
    "console.log(fruitsVeggiesCombo1);"
   ]
  },
  {
   "cell_type": "code",
   "execution_count": 5,
   "id": "6cc1f0be-72d5-429c-a1da-fc7930c9e946",
   "metadata": {},
   "outputs": [],
   "source": [
    "let meats = ['steak', 'chicken breast'];"
   ]
  },
  {
   "cell_type": "code",
   "execution_count": 6,
   "id": "9884b7c7-41d4-448b-a3f8-8eeb74bf2623",
   "metadata": {},
   "outputs": [],
   "source": [
    "let allFoods = fruits.concat(veggies, meats);"
   ]
  },
  {
   "cell_type": "code",
   "execution_count": 7,
   "id": "0c9e2737-4387-40ee-8c3d-b947f5c92eed",
   "metadata": {},
   "outputs": [
    {
     "name": "stdout",
     "output_type": "stream",
     "text": [
      "[ 'apple', 'banana', 'tomato', 'potato', 'steak', 'chicken breast' ]\n"
     ]
    }
   ],
   "source": [
    "console.log(allFoods);"
   ]
  }
 ],
 "metadata": {
  "kernelspec": {
   "display_name": "JavaScript (Node.js)",
   "language": "javascript",
   "name": "javascript"
  },
  "language_info": {
   "file_extension": ".js",
   "mimetype": "application/javascript",
   "name": "javascript",
   "version": "16.14.2"
  },
  "widgets": {
   "application/vnd.jupyter.widget-state+json": {
    "state": {},
    "version_major": 2,
    "version_minor": 0
   }
  }
 },
 "nbformat": 4,
 "nbformat_minor": 5
}
