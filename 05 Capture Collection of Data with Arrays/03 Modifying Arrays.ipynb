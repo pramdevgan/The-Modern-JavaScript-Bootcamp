{
 "cells": [
  {
   "cell_type": "markdown",
   "id": "8d545faa-b785-4f1d-a23b-4523931c7da0",
   "metadata": {},
   "source": [
    " # ***Modifying  Arrays***"
   ]
  },
  {
   "cell_type": "markdown",
   "id": "b08d4c44-ce60-445d-bbbe-32039a9ad464",
   "metadata": {},
   "source": [
    "- String are immutable but arrays are mutable that means we can change "
   ]
  },
  {
   "cell_type": "code",
   "execution_count": 4,
   "id": "97a79508-7746-4991-9fa4-55ba55bc14d3",
   "metadata": {},
   "outputs": [],
   "source": [
    "let shopingList = ['Cheddar Cheese', '2% Milk'];"
   ]
  },
  {
   "cell_type": "markdown",
   "id": "1da359e1-78fa-43ce-9741-d3d7df3320b3",
   "metadata": {},
   "source": [
    "So lets change our array"
   ]
  },
  {
   "cell_type": "code",
   "execution_count": 8,
   "id": "490ce55c-f8c5-4751-b875-eccbb7f31eee",
   "metadata": {},
   "outputs": [
    {
     "name": "stdout",
     "output_type": "stream",
     "text": [
      "[ 'Cheddar Cheese', 'Whole Milk', 'Ice Cream' ]\n"
     ]
    }
   ],
   "source": [
    "shopingList[1] = 'Whole Milk';\n",
    "shopingList[2] = 'Ice Cream';\n",
    "console.log(shopingList);"
   ]
  },
  {
   "cell_type": "markdown",
   "id": "d304b320-d54a-433c-8315-9a1e66032321",
   "metadata": {},
   "source": [
    "This apprcoh is good but if we don't know how many products are there if you want you have to calculate it   \n",
    "Suppose data is comes from database so we use below approch to modify our array it added at last in our array"
   ]
  },
  {
   "cell_type": "code",
   "execution_count": 9,
   "id": "7d6741ce-556a-46e3-a151-025a7785ba04",
   "metadata": {},
   "outputs": [
    {
     "name": "stdout",
     "output_type": "stream",
     "text": [
      "[ 'Cheddar Cheese', 'Whole Milk', 'Ice Cream', 'Shivam' ]\n"
     ]
    }
   ],
   "source": [
    "shopingList[shopingList.length] = 'Shivam';\n",
    "console.log(shopingList);"
   ]
  },
  {
   "cell_type": "code",
   "execution_count": 10,
   "id": "3b9fd9ce-69ec-4575-814b-531e4b2e31ba",
   "metadata": {},
   "outputs": [
    {
     "name": "stdout",
     "output_type": "stream",
     "text": [
      "[ 'Cheddar Cheese', 'Whole Milk', 'Ice Cream', 'Shivam', 'Param' ]\n"
     ]
    }
   ],
   "source": [
    "shopingList[shopingList.length] = 'Param';\n",
    "console.log(shopingList);"
   ]
  }
 ],
 "metadata": {
  "kernelspec": {
   "display_name": "JavaScript (Node.js)",
   "language": "javascript",
   "name": "javascript"
  },
  "language_info": {
   "file_extension": ".js",
   "mimetype": "application/javascript",
   "name": "javascript",
   "version": "16.14.2"
  },
  "widgets": {
   "application/vnd.jupyter.widget-state+json": {
    "state": {},
    "version_major": 2,
    "version_minor": 0
   }
  }
 },
 "nbformat": 4,
 "nbformat_minor": 5
}
