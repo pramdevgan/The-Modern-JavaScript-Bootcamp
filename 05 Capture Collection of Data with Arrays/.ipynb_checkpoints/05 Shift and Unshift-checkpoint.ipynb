{
 "cells": [
  {
   "cell_type": "markdown",
   "id": "a247b82b-4c17-466f-a51a-e37a949ef57d",
   "metadata": {},
   "source": [
    "# ***Shift and Unshift***"
   ]
  },
  {
   "cell_type": "markdown",
   "id": "ef9a292b-c90d-4fb1-abe4-4c26a09ac965",
   "metadata": {},
   "source": [
    "## **Unshift**\n",
    "The **unshift()** method is used to add an element/item to the starting point of an array.\n",
    "![](https://linuxhint.com/wp-content/uploads/2021/08/image3-2-1024x310.jpg)"
   ]
  },
  {
   "cell_type": "code",
   "execution_count": 2,
   "id": "662687f3-1749-47fa-929a-c9acc8b98fc7",
   "metadata": {},
   "outputs": [],
   "source": [
    "let dishesToDO = ['big platter'];"
   ]
  },
  {
   "cell_type": "code",
   "execution_count": 3,
   "id": "1046c5c9-8418-4ce0-90e3-9b6fe22b5ca2",
   "metadata": {},
   "outputs": [
    {
     "name": "stdout",
     "output_type": "stream",
     "text": [
      "2\n"
     ]
    }
   ],
   "source": [
    "console.log(dishesToDO.unshift('large plate'));"
   ]
  },
  {
   "cell_type": "code",
   "execution_count": 4,
   "id": "0db0a9a3-9d26-4915-9d13-7fc37fe7e8cb",
   "metadata": {},
   "outputs": [
    {
     "name": "stdout",
     "output_type": "stream",
     "text": [
      "3\n"
     ]
    }
   ],
   "source": [
    "console.log(dishesToDO.unshift('small plate'));"
   ]
  },
  {
   "cell_type": "markdown",
   "id": "e72eb5bc-ce52-4c55-b588-15b98a1d1bf3",
   "metadata": {},
   "source": [
    "as you can see the output... It returing new length of our array"
   ]
  },
  {
   "cell_type": "code",
   "execution_count": 5,
   "id": "4d090875-f265-4f55-af9d-f511bfac2654",
   "metadata": {},
   "outputs": [
    {
     "name": "stdout",
     "output_type": "stream",
     "text": [
      "4\n"
     ]
    }
   ],
   "source": [
    "console.log(dishesToDO.unshift('cereal bowl'));"
   ]
  },
  {
   "cell_type": "code",
   "execution_count": 6,
   "id": "408050f0-2e85-4481-ad66-f2a0b2f23770",
   "metadata": {},
   "outputs": [
    {
     "name": "stdout",
     "output_type": "stream",
     "text": [
      "5\n"
     ]
    }
   ],
   "source": [
    "console.log(dishesToDO.unshift('mug'));"
   ]
  },
  {
   "cell_type": "code",
   "execution_count": 7,
   "id": "44b4686b-45c6-4989-8447-521df77eed50",
   "metadata": {},
   "outputs": [
    {
     "name": "stdout",
     "output_type": "stream",
     "text": [
      "6\n",
      "[\n",
      "  'dirty spoon',\n",
      "  'mug',\n",
      "  'cereal bowl',\n",
      "  'small plate',\n",
      "  'large plate',\n",
      "  'big platter'\n",
      "]\n"
     ]
    }
   ],
   "source": [
    "console.log(dishesToDO.unshift('dirty spoon'));\n",
    "console.log(dishesToDO);"
   ]
  },
  {
   "cell_type": "markdown",
   "id": "3d44471c-4ab6-459e-a3cf-2a634634ae7c",
   "metadata": {},
   "source": [
    "## **Shift**\n",
    "The **shift()** method is used to remove an element/item from the starting point of an array.\n",
    "![](https://linuxhint.com/wp-content/uploads/2021/08/image1-1-1024x424.jpg)"
   ]
  },
  {
   "cell_type": "code",
   "execution_count": 8,
   "id": "537cc98d-f01b-4722-8013-c810d7f368d8",
   "metadata": {},
   "outputs": [
    {
     "name": "stdout",
     "output_type": "stream",
     "text": [
      "dirty spoon\n"
     ]
    }
   ],
   "source": [
    "console.log(dishesToDO.shift());\n",
    "console.log(dishesToDO);"
   ]
  },
  {
   "cell_type": "code",
   "execution_count": 9,
   "id": "aaae8b8b-4814-463a-8f6c-e1aba4585d3b",
   "metadata": {},
   "outputs": [
    {
     "name": "stdout",
     "output_type": "stream",
     "text": [
      "mug\n"
     ]
    }
   ],
   "source": [
    "console.log(dishesToDO.shift());\n",
    "console.log(dishesToDO);"
   ]
  },
  {
   "cell_type": "code",
   "execution_count": 10,
   "id": "09cbb272-8069-40a2-8cbc-4212465c460d",
   "metadata": {},
   "outputs": [
    {
     "name": "stdout",
     "output_type": "stream",
     "text": [
      "cereal bowl\n"
     ]
    }
   ],
   "source": [
    "console.log(dishesToDO.shift());\n",
    "console.log(dishesToDO);"
   ]
  },
  {
   "cell_type": "code",
   "execution_count": 11,
   "id": "951dc8fc-8678-4da8-a547-8e489400c22b",
   "metadata": {},
   "outputs": [
    {
     "name": "stdout",
     "output_type": "stream",
     "text": [
      "small plate\n"
     ]
    }
   ],
   "source": [
    "console.log(dishesToDO.shift());\n",
    "console.log(dishesToDO);"
   ]
  },
  {
   "cell_type": "code",
   "execution_count": 12,
   "id": "a0cd6934-ce8f-4e17-806b-b9ffba1be39b",
   "metadata": {},
   "outputs": [
    {
     "name": "stdout",
     "output_type": "stream",
     "text": [
      "large plate\n"
     ]
    }
   ],
   "source": [
    "console.log(dishesToDO.shift());\n",
    "console.log(dishesToDO);"
   ]
  },
  {
   "cell_type": "code",
   "execution_count": 13,
   "id": "a9bc4d60-05e2-4aed-accd-c55561729092",
   "metadata": {},
   "outputs": [
    {
     "name": "stdout",
     "output_type": "stream",
     "text": [
      "big platter\n"
     ]
    }
   ],
   "source": [
    "console.log(dishesToDO.shift());\n",
    "console.log(dishesToDO);"
   ]
  },
  {
   "cell_type": "code",
   "execution_count": 15,
   "id": "efa5ddbb-1941-48e5-b663-cfe9a3a5491b",
   "metadata": {},
   "outputs": [
    {
     "name": "stdout",
     "output_type": "stream",
     "text": [
      "[]\n"
     ]
    }
   ],
   "source": [
    "console.log(dishesToDO);\n",
    "console.log(dishesToDO);"
   ]
  }
 ],
 "metadata": {
  "kernelspec": {
   "display_name": "JavaScript (Node.js)",
   "language": "javascript",
   "name": "javascript"
  },
  "language_info": {
   "file_extension": ".js",
   "mimetype": "application/javascript",
   "name": "javascript",
   "version": "16.14.2"
  },
  "widgets": {
   "application/vnd.jupyter.widget-state+json": {
    "state": {},
    "version_major": 2,
    "version_minor": 0
   }
  }
 },
 "nbformat": 4,
 "nbformat_minor": 5
}
