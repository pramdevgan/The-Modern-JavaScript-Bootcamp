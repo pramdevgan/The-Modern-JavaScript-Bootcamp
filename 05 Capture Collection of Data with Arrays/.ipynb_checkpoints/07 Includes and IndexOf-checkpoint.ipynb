{
 "cells": [
  {
   "cell_type": "markdown",
   "id": "d12453af-b361-4c14-b006-72c6ea0c235f",
   "metadata": {},
   "source": [
    "# ***includes() and indexof()***"
   ]
  },
  {
   "cell_type": "markdown",
   "id": "84c9ace2-82e6-43df-801b-834d0f74b44f",
   "metadata": {
    "tags": []
   },
   "source": [
    "# **includes**\n",
    "The **includes()** method determines whether an array includes a certain value among its entries, returning **true** or **false** as appropriate.\n",
    "\n",
    "## **Syntax**\n",
    "*includes(searchElement)*   \n",
    "*includes(searchElement, fromIndex)*\n",
    "\n",
    "***Not Available in IE!!!*** "
   ]
  },
  {
   "cell_type": "code",
   "execution_count": 1,
   "id": "2dfdde5b-f25f-4572-902c-16b89aac7bf0",
   "metadata": {},
   "outputs": [],
   "source": [
    "let ingredients = [\n",
    "    'water',\n",
    "    'corn starch',\n",
    "    'flour',\n",
    "    'cheese',\n",
    "    'brown suger',\n",
    "    'shrimp',\n",
    "    'eel',\n",
    "    'butter'\n",
    "];"
   ]
  },
  {
   "cell_type": "code",
   "execution_count": 2,
   "id": "18e0ce4d-cb7b-4006-b832-6f5f67df8206",
   "metadata": {},
   "outputs": [],
   "source": [
    "let searchFish = ingredients.includes('fish');"
   ]
  },
  {
   "cell_type": "code",
   "execution_count": 3,
   "id": "4cea81ed-4a0d-4668-a057-f176091bd639",
   "metadata": {},
   "outputs": [
    {
     "name": "stdout",
     "output_type": "stream",
     "text": [
      "false\n"
     ]
    }
   ],
   "source": [
    "console.log(searchFish);"
   ]
  },
  {
   "cell_type": "code",
   "execution_count": 4,
   "id": "77f8894b-b1a1-4e3a-a245-e29eb54c027a",
   "metadata": {},
   "outputs": [],
   "source": [
    "let searchShrimp = ingredients.includes('shrimp');"
   ]
  },
  {
   "cell_type": "code",
   "execution_count": 5,
   "id": "2f061605-ad20-4afa-a839-971e37840843",
   "metadata": {},
   "outputs": [
    {
     "name": "stdout",
     "output_type": "stream",
     "text": [
      "true\n"
     ]
    }
   ],
   "source": [
    "console.log(searchShrimp);"
   ]
  }
 ],
 "metadata": {
  "kernelspec": {
   "display_name": "JavaScript (Node.js)",
   "language": "javascript",
   "name": "javascript"
  },
  "language_info": {
   "file_extension": ".js",
   "mimetype": "application/javascript",
   "name": "javascript",
   "version": "16.14.2"
  },
  "widgets": {
   "application/vnd.jupyter.widget-state+json": {
    "state": {},
    "version_major": 2,
    "version_minor": 0
   }
  }
 },
 "nbformat": 4,
 "nbformat_minor": 5
}
