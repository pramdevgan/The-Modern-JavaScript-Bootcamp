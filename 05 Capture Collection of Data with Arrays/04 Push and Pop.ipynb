{
 "cells": [
  {
   "cell_type": "markdown",
   "id": "17a4b321-fce4-4f8d-b2dc-f12ca880702b",
   "metadata": {},
   "source": [
    "# Array Methods\n",
    "| Methods     |   Function          |\n",
    "|-------------|---------------------|\n",
    "| **push()**      | add to end          |\n",
    "| **pop()**       | remove from end     |\n",
    "| **shift()**     | remove from start   |\n",
    "| **unshift()**   | add to start        |"
   ]
  },
  {
   "cell_type": "markdown",
   "id": "e2374186-631b-4ecf-adbc-780babdbf3de",
   "metadata": {},
   "source": [
    "## Push() and Pop() "
   ]
  },
  {
   "cell_type": "markdown",
   "id": "50fd5b14-3936-44ce-b767-92544aa8e7b9",
   "metadata": {},
   "source": [
    "The ***push()*** method adds one or more elements to the ends of an array and returns the new length of the array."
   ]
  },
  {
   "cell_type": "code",
   "execution_count": 2,
   "id": "a8820212-53e7-4e0f-bce0-2f33df809d2f",
   "metadata": {},
   "outputs": [
    {
     "name": "stdout",
     "output_type": "stream",
     "text": [
      "[ 'Shivam', 'Param', 'Shivani', 'Sweta', 'Dipali', 'Ram' ]\n"
     ]
    }
   ],
   "source": [
    " let topNames = [\n",
    "     'Shivam',\n",
    "     'Param',\n",
    "     'Shivani',\n",
    "     'Sweta',\n",
    "     'Dipali',\n",
    "     'Ram'\n",
    " ];\n",
    "\n",
    "console.log(topNames);"
   ]
  },
  {
   "cell_type": "markdown",
   "id": "35026081-ab08-40ac-b29e-ba0d19a9101a",
   "metadata": {},
   "source": [
    "Suppose i want to insert a name which i forget to insert at end so i can insert by using push() method"
   ]
  },
  {
   "cell_type": "code",
   "execution_count": 3,
   "id": "d8ba4961-b9fe-442d-9704-fc6f3e4b8ab4",
   "metadata": {},
   "outputs": [
    {
     "name": "stdout",
     "output_type": "stream",
     "text": [
      "[\n",
      "  'Shivam',   'Param',\n",
      "  'Shivani',  'Sweta',\n",
      "  'Dipali',   'Ram',\n",
      "  'Akarshan'\n",
      "]\n"
     ]
    }
   ],
   "source": [
    "topNames.push('Akarshan');\n",
    "console.log(topNames);"
   ]
  },
  {
   "cell_type": "markdown",
   "id": "0ef53d13-1959-4f8c-b456-679c0945942c",
   "metadata": {},
   "source": [
    "## Pop()\n",
    "The ***pop()*** method remove one or more elements to the ends of an array and returns the new length of the array."
   ]
  },
  {
   "cell_type": "code",
   "execution_count": 4,
   "id": "a08adcd6-0872-4b47-a1f9-47dd610404fe",
   "metadata": {},
   "outputs": [
    {
     "name": "stdout",
     "output_type": "stream",
     "text": [
      "Akarshan\n",
      "[ 'Shivam', 'Param', 'Shivani', 'Sweta', 'Dipali', 'Ram' ]\n"
     ]
    }
   ],
   "source": [
    "console.log(topNames.pop());\n",
    "console.log(topNames);"
   ]
  },
  {
   "cell_type": "code",
   "execution_count": 5,
   "id": "ebe29f97-2bed-4dc2-9613-7856900f8444",
   "metadata": {},
   "outputs": [],
   "source": [
    "const nextName = topNames.pop();"
   ]
  },
  {
   "cell_type": "code",
   "execution_count": 6,
   "id": "cda9e85d-e2da-47f2-b788-46171191b7db",
   "metadata": {},
   "outputs": [
    {
     "name": "stdout",
     "output_type": "stream",
     "text": [
      "Ram\n"
     ]
    }
   ],
   "source": [
    "console.log(nextName);"
   ]
  },
  {
   "cell_type": "code",
   "execution_count": 7,
   "id": "e6de9f02-4668-4ce0-98fe-724b87e17223",
   "metadata": {},
   "outputs": [
    {
     "name": "stdout",
     "output_type": "stream",
     "text": [
      "[ 'Shivam', 'Param', 'Shivani', 'Sweta', 'Dipali' ]\n"
     ]
    }
   ],
   "source": [
    "console.log(topNames);"
   ]
  },
  {
   "cell_type": "markdown",
   "id": "87694918-f527-4566-b35b-d2d63fc0329d",
   "metadata": {},
   "source": [
    "If our array list is empty so pop() methods will return return **undefined** as you can see the below"
   ]
  },
  {
   "cell_type": "code",
   "execution_count": 8,
   "id": "6af466f5-297d-473a-8a10-4cf48cf9267e",
   "metadata": {},
   "outputs": [],
   "source": [
    "let empytList = [];"
   ]
  },
  {
   "cell_type": "code",
   "execution_count": 11,
   "id": "996f6836-abaa-4afd-b1de-90e32db8db07",
   "metadata": {},
   "outputs": [
    {
     "name": "stdout",
     "output_type": "stream",
     "text": [
      "undefined\n"
     ]
    }
   ],
   "source": [
    "console.log(empytList.pop());"
   ]
  },
  {
   "cell_type": "code",
   "execution_count": null,
   "id": "686e3706-fd5e-4f5f-828b-edcd6d8afdb5",
   "metadata": {},
   "outputs": [],
   "source": []
  }
 ],
 "metadata": {
  "kernelspec": {
   "display_name": "JavaScript (Node.js)",
   "language": "javascript",
   "name": "javascript"
  },
  "language_info": {
   "file_extension": ".js",
   "mimetype": "application/javascript",
   "name": "javascript",
   "version": "16.14.2"
  },
  "widgets": {
   "application/vnd.jupyter.widget-state+json": {
    "state": {},
    "version_major": 2,
    "version_minor": 0
   }
  }
 },
 "nbformat": 4,
 "nbformat_minor": 5
}
