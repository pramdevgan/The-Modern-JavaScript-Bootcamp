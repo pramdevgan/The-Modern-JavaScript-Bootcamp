{
 "cells": [
  {
   "cell_type": "markdown",
   "id": "16ee407e-22b7-4b37-a1ac-ed7081f1a476",
   "metadata": {},
   "source": [
    "# **Arrays Indices**"
   ]
  },
  {
   "cell_type": "markdown",
   "id": "666fb686-5b93-47bb-ba18-376636103d95",
   "metadata": {},
   "source": [
    "### Arrays are indexed"
   ]
  },
  {
   "cell_type": "code",
   "execution_count": 2,
   "id": "3b66c077-901d-42b9-899c-e9d65996e91b",
   "metadata": {},
   "outputs": [
    {
     "name": "stdout",
     "output_type": "stream",
     "text": [
      "4\n"
     ]
    }
   ],
   "source": [
    "let colors = ['red','orange', 'yellow', 'green' ];\n",
    "console.log(colors.length);"
   ]
  },
  {
   "cell_type": "code",
   "execution_count": 3,
   "id": "c42d66b4-504b-4bab-a53a-b6f630d0b846",
   "metadata": {},
   "outputs": [
    {
     "name": "stdout",
     "output_type": "stream",
     "text": [
      "red\n",
      "orange\n",
      "yellow\n",
      "green\n",
      "undefined\n"
     ]
    }
   ],
   "source": [
    "console.log(colors[0]) // 'red'\n",
    "console.log(colors[1]) // 'ornage'\n",
    "console.log(colors[2]) // 'yellow'\n",
    "console.log(colors[3]) // 'green'\n",
    "console.log(colors[4]) // 'undefined'b"
   ]
  },
  {
   "cell_type": "markdown",
   "id": "8303fd03-6f22-4125-9342-67105318a3fc",
   "metadata": {},
   "source": [
    "### If you want to last item of an arrays then you can use **length-1**"
   ]
  },
  {
   "cell_type": "code",
   "execution_count": 5,
   "id": "5fcb39ac-2898-4aa8-974e-60762b66d056",
   "metadata": {},
   "outputs": [
    {
     "name": "stdout",
     "output_type": "stream",
     "text": [
      "green\n"
     ]
    }
   ],
   "source": [
    "console.log(colors[colors.length-1]);"
   ]
  }
 ],
 "metadata": {
  "kernelspec": {
   "display_name": "JavaScript (Node.js)",
   "language": "javascript",
   "name": "javascript"
  },
  "language_info": {
   "file_extension": ".js",
   "mimetype": "application/javascript",
   "name": "javascript",
   "version": "16.14.2"
  },
  "widgets": {
   "application/vnd.jupyter.widget-state+json": {
    "state": {},
    "version_major": 2,
    "version_minor": 0
   }
  }
 },
 "nbformat": 4,
 "nbformat_minor": 5
}
